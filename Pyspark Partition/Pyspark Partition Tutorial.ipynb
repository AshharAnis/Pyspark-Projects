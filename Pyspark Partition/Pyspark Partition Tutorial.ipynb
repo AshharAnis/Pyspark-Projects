{
 "cells": [
  {
   "cell_type": "code",
   "execution_count": 0,
   "metadata": {
    "application/vnd.databricks.v1+cell": {
     "cellMetadata": {
      "byteLimit": 2048000,
      "rowLimit": 10000
     },
     "inputWidgets": {},
     "nuid": "edb4d70c-768d-4277-95da-53b004481176",
     "showTitle": false,
     "title": ""
    }
   },
   "outputs": [],
   "source": [
    "df1 = spark.read.csv('/FileStore/tables/join1.csv',header=True,inferSchema=True)\n",
    "df2 = spark.read.csv('/FileStore/tables/join2.csv',header=True,inferSchema=True)"
   ]
  },
  {
   "cell_type": "code",
   "execution_count": 0,
   "metadata": {
    "application/vnd.databricks.v1+cell": {
     "cellMetadata": {
      "byteLimit": 2048000,
      "rowLimit": 10000
     },
     "inputWidgets": {},
     "nuid": "991e3aee-1b0d-43f7-81ec-46d0b22649d2",
     "showTitle": false,
     "title": ""
    }
   },
   "outputs": [
    {
     "output_type": "stream",
     "name": "stdout",
     "output_type": "stream",
     "text": [
      "+---+--------------------+\n| ID|               Major|\n+---+--------------------+\n|  1|Mechanical Engine...|\n|  2|Electrical Engine...|\n|  3|   Civil Engineering|\n|  4|Mechanical Engine...|\n|  5|Electrical Engine...|\n|  6|Mechanical Engine...|\n|  7|Electrical Engine...|\n|  8|   Civil Engineering|\n+---+--------------------+\n\n"
     ]
    }
   ],
   "source": [
    "df1.show()"
   ]
  },
  {
   "cell_type": "code",
   "execution_count": 0,
   "metadata": {
    "application/vnd.databricks.v1+cell": {
     "cellMetadata": {
      "byteLimit": 2048000,
      "rowLimit": 10000
     },
     "inputWidgets": {},
     "nuid": "3d0acfcd-f439-4fe1-9fb8-be5b581086e9",
     "showTitle": false,
     "title": ""
    }
   },
   "outputs": [
    {
     "output_type": "stream",
     "name": "stdout",
     "output_type": "stream",
     "text": [
      "Out[9]: 8"
     ]
    }
   ],
   "source": [
    "dff1.rdd.getNumPartitions()"
   ]
  },
  {
   "cell_type": "code",
   "execution_count": 0,
   "metadata": {
    "application/vnd.databricks.v1+cell": {
     "cellMetadata": {
      "byteLimit": 2048000,
      "rowLimit": 10000
     },
     "inputWidgets": {},
     "nuid": "31db6f8c-c416-4662-b946-a1e2315efd6a",
     "showTitle": false,
     "title": ""
    }
   },
   "outputs": [],
   "source": [
    "dff1 = df1.repartition(8)\n",
    "dff2 = df2.repartition(8)"
   ]
  },
  {
   "cell_type": "code",
   "execution_count": 0,
   "metadata": {
    "application/vnd.databricks.v1+cell": {
     "cellMetadata": {
      "byteLimit": 2048000,
      "rowLimit": 10000
     },
     "inputWidgets": {},
     "nuid": "1f1ad549-2065-4b9e-9b4e-bd9951fedb1f",
     "showTitle": false,
     "title": ""
    }
   },
   "outputs": [],
   "source": [
    "df = dff2.join(dff1,'ID').select('*')"
   ]
  },
  {
   "cell_type": "code",
   "execution_count": 0,
   "metadata": {
    "application/vnd.databricks.v1+cell": {
     "cellMetadata": {
      "byteLimit": 2048000,
      "rowLimit": 10000
     },
     "inputWidgets": {},
     "nuid": "91259222-461a-4c0b-acd6-77c5c5d2e8ae",
     "showTitle": false,
     "title": ""
    }
   },
   "outputs": [],
   "source": [
    "df1.write.format('csv')\\\n",
    "    .mode('overwrite')\\\n",
    "    .option('maxRecordsPerFile',4)\\\n",
    "    .partitionBy('MAJOR')\\\n",
    "    .option('header','true')\\\n",
    "    .save('/FileStore/tables/partition/file.csv')"
   ]
  },
  {
   "cell_type": "code",
   "execution_count": 0,
   "metadata": {
    "application/vnd.databricks.v1+cell": {
     "cellMetadata": {},
     "inputWidgets": {},
     "nuid": "11555846-f195-4a65-82b6-a0fc1197e36f",
     "showTitle": false,
     "title": ""
    }
   },
   "outputs": [],
   "source": [
    "df1.repartition(4).write.format('csv')\\\n",
    "    .mode('overwrite')\\\n",
    "    .option('header','true')\\\n",
    "    .save('/FileStore/tables/partition/file.csv')"
   ]
  }
 ],
 "metadata": {
  "application/vnd.databricks.v1+notebook": {
   "dashboards": [],
   "environmentMetadata": null,
   "language": "python",
   "notebookMetadata": {
    "pythonIndentUnit": 4
   },
   "notebookName": "Pyspark Partition Tutorial",
   "widgets": {}
  }
 },
 "nbformat": 4,
 "nbformat_minor": 0
}
